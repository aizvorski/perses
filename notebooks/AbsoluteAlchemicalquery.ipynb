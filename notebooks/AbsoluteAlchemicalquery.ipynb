{
 "cells": [
  {
   "cell_type": "markdown",
   "metadata": {},
   "source": [
    "## Alchemifying stuff with `openmmtools`"
   ]
  },
  {
   "cell_type": "markdown",
   "metadata": {},
   "source": [
    "I'm just doing this to query the alchemical system that the `AbsoluteAlchemicalFactory` makes and see what we have to modify in order to make it a valid sampler for perses..."
   ]
  },
  {
   "cell_type": "code",
   "execution_count": 133,
   "metadata": {
    "scrolled": true
   },
   "outputs": [],
   "source": [
    "from openmmtools import testsystems\n",
    "from openmmtools.alchemy import AbsoluteAlchemicalFactory, AlchemicalRegion"
   ]
  },
  {
   "cell_type": "code",
   "execution_count": 134,
   "metadata": {
    "scrolled": true
   },
   "outputs": [],
   "source": [
    "factory = AbsoluteAlchemicalFactory()\n",
    "test = testsystems.AlanineDipeptideVacuum()\n",
    "positions, topology, system = test.positions, test.topology, test.system"
   ]
  },
  {
   "cell_type": "markdown",
   "metadata": {},
   "source": [
    "for example, i'll 'alchemify' the first 5 atoms in the vacuum alanine dipeptide system"
   ]
  },
  {
   "cell_type": "code",
   "execution_count": 135,
   "metadata": {
    "scrolled": true
   },
   "outputs": [],
   "source": [
    "alch_region = AlchemicalRegion(alchemical_atoms = range(6))"
   ]
  },
  {
   "cell_type": "code",
   "execution_count": 136,
   "metadata": {
    "scrolled": true
   },
   "outputs": [],
   "source": [
    "alch_sys = factory.create_alchemical_system(reference_system=system, alchemical_regions=alch_region)"
   ]
  },
  {
   "cell_type": "code",
   "execution_count": 137,
   "metadata": {
    "scrolled": true
   },
   "outputs": [
    {
     "data": {
      "text/plain": [
       "[<simtk.openmm.openmm.HarmonicBondForce; proxy of <Swig Object of type 'OpenMM::HarmonicBondForce *' at 0x7fc6516c0030> >,\n",
       " <simtk.openmm.openmm.HarmonicAngleForce; proxy of <Swig Object of type 'OpenMM::HarmonicAngleForce *' at 0x7fc6516c0cf0> >,\n",
       " <simtk.openmm.openmm.PeriodicTorsionForce; proxy of <Swig Object of type 'OpenMM::PeriodicTorsionForce *' at 0x7fc6516c0cc0> >,\n",
       " <simtk.openmm.openmm.NonbondedForce; proxy of <Swig Object of type 'OpenMM::NonbondedForce *' at 0x7fc6516c0240> >,\n",
       " <simtk.openmm.openmm.CMMotionRemover; proxy of <Swig Object of type 'OpenMM::CMMotionRemover *' at 0x7fc6516c05a0> >]"
      ]
     },
     "execution_count": 137,
     "metadata": {},
     "output_type": "execute_result"
    }
   ],
   "source": [
    "system.getForces()"
   ]
  },
  {
   "cell_type": "markdown",
   "metadata": {},
   "source": [
    "Let's query the alchemical system to see what it looks like..."
   ]
  },
  {
   "cell_type": "code",
   "execution_count": 138,
   "metadata": {
    "scrolled": true
   },
   "outputs": [
    {
     "name": "stdout",
     "output_type": "stream",
     "text": [
      "0 <simtk.openmm.openmm.CMMotionRemover; proxy of <Swig Object of type 'OpenMM::CMMotionRemover *' at 0x7fc6516c03f0> >\n",
      "1 <simtk.openmm.openmm.HarmonicBondForce; proxy of <Swig Object of type 'OpenMM::HarmonicBondForce *' at 0x7fc6516c0090> >\n",
      "2 <simtk.openmm.openmm.HarmonicAngleForce; proxy of <Swig Object of type 'OpenMM::HarmonicAngleForce *' at 0x7fc6516c0990> >\n",
      "3 <simtk.openmm.openmm.PeriodicTorsionForce; proxy of <Swig Object of type 'OpenMM::PeriodicTorsionForce *' at 0x7fc6516c0c30> >\n",
      "4 <simtk.openmm.openmm.NonbondedForce; proxy of <Swig Object of type 'OpenMM::NonbondedForce *' at 0x7fc6516c0ed0> >\n",
      "5 <simtk.openmm.openmm.CustomNonbondedForce; proxy of <Swig Object of type 'OpenMM::CustomNonbondedForce *' at 0x7fc6516c0510> >\n",
      "6 <simtk.openmm.openmm.CustomNonbondedForce; proxy of <Swig Object of type 'OpenMM::CustomNonbondedForce *' at 0x7fc6516c0330> >\n",
      "7 <simtk.openmm.openmm.CustomBondForce; proxy of <Swig Object of type 'OpenMM::CustomBondForce *' at 0x7fc6516c0600> >\n",
      "8 <simtk.openmm.openmm.CustomBondForce; proxy of <Swig Object of type 'OpenMM::CustomBondForce *' at 0x7fc6516c0ae0> >\n",
      "9 <simtk.openmm.openmm.CustomNonbondedForce; proxy of <Swig Object of type 'OpenMM::CustomNonbondedForce *' at 0x7fc6516c0c90> >\n",
      "10 <simtk.openmm.openmm.CustomNonbondedForce; proxy of <Swig Object of type 'OpenMM::CustomNonbondedForce *' at 0x7fc6516c05d0> >\n",
      "11 <simtk.openmm.openmm.CustomBondForce; proxy of <Swig Object of type 'OpenMM::CustomBondForce *' at 0x7fc6516c0ea0> >\n",
      "12 <simtk.openmm.openmm.CustomBondForce; proxy of <Swig Object of type 'OpenMM::CustomBondForce *' at 0x7fc6516c0b70> >\n"
     ]
    }
   ],
   "source": [
    "num_forces = alch_sys.getNumForces()\n",
    "force_dict = {}\n",
    "for idx, entry in enumerate(alch_sys.getForces()):\n",
    "    force_dict[idx] = entry\n",
    "for key, val in force_dict.items():\n",
    "    print(key, val)\n",
    "    "
   ]
  },
  {
   "cell_type": "markdown",
   "metadata": {},
   "source": [
    "we can remove force 0; let's take a look at the standard valence forces (1-3) to see if they include _all_ of the atom terms..."
   ]
  },
  {
   "cell_type": "code",
   "execution_count": 139,
   "metadata": {
    "scrolled": true
   },
   "outputs": [
    {
     "name": "stdout",
     "output_type": "stream",
     "text": [
      "[4, 5, Quantity(value=0.12290000000000001, unit=nanometer), Quantity(value=476976.00000000006, unit=kilojoule/(nanometer**2*mole))]\n",
      "[4, 6, Quantity(value=0.1335, unit=nanometer), Quantity(value=410032.00000000006, unit=kilojoule/(nanometer**2*mole))]\n",
      "[1, 4, Quantity(value=0.1522, unit=nanometer), Quantity(value=265265.60000000003, unit=kilojoule/(nanometer**2*mole))]\n",
      "[14, 15, Quantity(value=0.12290000000000001, unit=nanometer), Quantity(value=476976.00000000006, unit=kilojoule/(nanometer**2*mole))]\n",
      "[14, 16, Quantity(value=0.1335, unit=nanometer), Quantity(value=410032.00000000006, unit=kilojoule/(nanometer**2*mole))]\n",
      "[8, 10, Quantity(value=0.1526, unit=nanometer), Quantity(value=259408.00000000003, unit=kilojoule/(nanometer**2*mole))]\n",
      "[8, 14, Quantity(value=0.1522, unit=nanometer), Quantity(value=265265.60000000003, unit=kilojoule/(nanometer**2*mole))]\n",
      "[6, 8, Quantity(value=0.1449, unit=nanometer), Quantity(value=282001.60000000003, unit=kilojoule/(nanometer**2*mole))]\n",
      "[16, 18, Quantity(value=0.1449, unit=nanometer), Quantity(value=282001.60000000003, unit=kilojoule/(nanometer**2*mole))]\n"
     ]
    }
   ],
   "source": [
    "bond_force = force_dict[1]\n",
    "for bond_idx in range(bond_force.getNumBonds()):\n",
    "    print(bond_force.getBondParameters(bond_idx))"
   ]
  },
  {
   "cell_type": "markdown",
   "metadata": {},
   "source": [
    "and let's compare this to the original bond force...\n"
   ]
  },
  {
   "cell_type": "code",
   "execution_count": 140,
   "metadata": {
    "scrolled": true
   },
   "outputs": [
    {
     "name": "stdout",
     "output_type": "stream",
     "text": [
      "[4, 5, Quantity(value=0.12290000000000001, unit=nanometer), Quantity(value=476976.00000000006, unit=kilojoule/(nanometer**2*mole))]\n",
      "[4, 6, Quantity(value=0.1335, unit=nanometer), Quantity(value=410032.00000000006, unit=kilojoule/(nanometer**2*mole))]\n",
      "[1, 4, Quantity(value=0.1522, unit=nanometer), Quantity(value=265265.60000000003, unit=kilojoule/(nanometer**2*mole))]\n",
      "[14, 15, Quantity(value=0.12290000000000001, unit=nanometer), Quantity(value=476976.00000000006, unit=kilojoule/(nanometer**2*mole))]\n",
      "[14, 16, Quantity(value=0.1335, unit=nanometer), Quantity(value=410032.00000000006, unit=kilojoule/(nanometer**2*mole))]\n",
      "[8, 10, Quantity(value=0.1526, unit=nanometer), Quantity(value=259408.00000000003, unit=kilojoule/(nanometer**2*mole))]\n",
      "[8, 14, Quantity(value=0.1522, unit=nanometer), Quantity(value=265265.60000000003, unit=kilojoule/(nanometer**2*mole))]\n",
      "[6, 8, Quantity(value=0.1449, unit=nanometer), Quantity(value=282001.60000000003, unit=kilojoule/(nanometer**2*mole))]\n",
      "[16, 18, Quantity(value=0.1449, unit=nanometer), Quantity(value=282001.60000000003, unit=kilojoule/(nanometer**2*mole))]\n"
     ]
    }
   ],
   "source": [
    "og_bond_force= system.getForce(0)\n",
    "for bond_idx in range(og_bond_force.getNumBonds()):\n",
    "    print(og_bond_force.getBondParameters(bond_idx))"
   ]
  },
  {
   "cell_type": "markdown",
   "metadata": {},
   "source": [
    "so it appears that _all_ ofthe valence terms are copied over exactly. when we make the hybrid system (to allow for rest2), we will need to iterate through these and query the atom indices. \n",
    "1. if all atom indices are in alchemical region, then we need to place htem in a custombondforce that is scaled by the in_group lambda term. \n",
    "2. if all atom indices are outside of the alchemical region, then we need to leave the m in the standardbond force and not scale them\n",
    "3. if the terms straddle the bonded region, we need to scale them with an inter_group lambda\n",
    "such is the case for the angle force and the torsion force, too\n"
   ]
  },
  {
   "cell_type": "markdown",
   "metadata": {},
   "source": [
    "now, let's take a look at the nonbonded force..."
   ]
  },
  {
   "cell_type": "code",
   "execution_count": 141,
   "metadata": {
    "scrolled": true
   },
   "outputs": [
    {
     "name": "stdout",
     "output_type": "stream",
     "text": [
      "[Quantity(value=0.0, unit=elementary charge), Quantity(value=0.26495327872602226, unit=nanometer), Quantity(value=0.0, unit=kilojoule/mole)]\n",
      "[Quantity(value=0.0, unit=elementary charge), Quantity(value=0.33996695084507406, unit=nanometer), Quantity(value=0.0, unit=kilojoule/mole)]\n",
      "[Quantity(value=0.0, unit=elementary charge), Quantity(value=0.26495327872602226, unit=nanometer), Quantity(value=0.0, unit=kilojoule/mole)]\n",
      "[Quantity(value=0.0, unit=elementary charge), Quantity(value=0.26495327872602226, unit=nanometer), Quantity(value=0.0, unit=kilojoule/mole)]\n",
      "[Quantity(value=0.0, unit=elementary charge), Quantity(value=0.33996695079448314, unit=nanometer), Quantity(value=0.0, unit=kilojoule/mole)]\n",
      "[Quantity(value=0.0, unit=elementary charge), Quantity(value=0.2959921901644687, unit=nanometer), Quantity(value=0.0, unit=kilojoule/mole)]\n",
      "[Quantity(value=-0.4157, unit=elementary charge), Quantity(value=0.3249998524031036, unit=nanometer), Quantity(value=0.7112799996555186, unit=kilojoule/mole)]\n",
      "[Quantity(value=0.27190000000000003, unit=elementary charge), Quantity(value=0.10690784617205229, unit=nanometer), Quantity(value=0.06568880001765333, unit=kilojoule/mole)]\n",
      "[Quantity(value=0.033699999999999994, unit=elementary charge), Quantity(value=0.33996695084507406, unit=nanometer), Quantity(value=0.45772959964740484, unit=kilojoule/mole)]\n",
      "[Quantity(value=0.0823, unit=elementary charge), Quantity(value=0.24713530426421654, unit=nanometer), Quantity(value=0.0656888004119626, unit=kilojoule/mole)]\n",
      "[Quantity(value=-0.1825, unit=elementary charge), Quantity(value=0.33996695084507406, unit=nanometer), Quantity(value=0.45772959964740484, unit=kilojoule/mole)]\n",
      "[Quantity(value=0.06029999999999999, unit=elementary charge), Quantity(value=0.26495327872602226, unit=nanometer), Quantity(value=0.06568880010977264, unit=kilojoule/mole)]\n",
      "[Quantity(value=0.06029999999999999, unit=elementary charge), Quantity(value=0.26495327872602226, unit=nanometer), Quantity(value=0.06568880010977264, unit=kilojoule/mole)]\n",
      "[Quantity(value=0.06029999999999999, unit=elementary charge), Quantity(value=0.26495327872602226, unit=nanometer), Quantity(value=0.06568880010977264, unit=kilojoule/mole)]\n",
      "[Quantity(value=0.5973000005487781, unit=elementary charge), Quantity(value=0.33996695079448314, unit=nanometer), Quantity(value=0.35982400053705343, unit=kilojoule/mole)]\n",
      "[Quantity(value=-0.5679000016463344, unit=elementary charge), Quantity(value=0.2959921901644687, unit=nanometer), Quantity(value=0.8786399993381852, unit=kilojoule/mole)]\n",
      "[Quantity(value=-0.4157, unit=elementary charge), Quantity(value=0.3249998524031036, unit=nanometer), Quantity(value=0.7112799996555186, unit=kilojoule/mole)]\n",
      "[Quantity(value=0.27190000000000003, unit=elementary charge), Quantity(value=0.10690784617205229, unit=nanometer), Quantity(value=0.06568880001765333, unit=kilojoule/mole)]\n",
      "[Quantity(value=-0.149, unit=elementary charge), Quantity(value=0.33996695084507406, unit=nanometer), Quantity(value=0.45772959964740484, unit=kilojoule/mole)]\n",
      "[Quantity(value=0.0976, unit=elementary charge), Quantity(value=0.24713530426421654, unit=nanometer), Quantity(value=0.0656888004119626, unit=kilojoule/mole)]\n",
      "[Quantity(value=0.0976, unit=elementary charge), Quantity(value=0.24713530426421654, unit=nanometer), Quantity(value=0.0656888004119626, unit=kilojoule/mole)]\n",
      "[Quantity(value=0.0976, unit=elementary charge), Quantity(value=0.24713530426421654, unit=nanometer), Quantity(value=0.0656888004119626, unit=kilojoule/mole)]\n"
     ]
    }
   ],
   "source": [
    "nb_force = force_dict[4]\n",
    "for particle in range(nb_force.getNumParticles()):\n",
    "    print(nb_force.getParticleParameters(particle))"
   ]
  },
  {
   "cell_type": "markdown",
   "metadata": {},
   "source": [
    "alright, so all of the particles in the alchemical region have zeroed parameters, so we should be able to leave this term as is; let's check the exceptions first"
   ]
  },
  {
   "cell_type": "code",
   "execution_count": 142,
   "metadata": {
    "scrolled": true
   },
   "outputs": [
    {
     "name": "stdout",
     "output_type": "stream",
     "text": [
      "[5, 7, Quantity(value=0.0, unit=elementary charge**2), Quantity(value=0.2014500181682605, unit=nanometer), Quantity(value=0.0, unit=kilojoule/mole)]\n",
      "[4, 9, Quantity(value=0.0, unit=elementary charge**2), Quantity(value=0.29355112752934986, unit=nanometer), Quantity(value=0.0, unit=kilojoule/mole)]\n",
      "[3, 5, Quantity(value=0.0, unit=elementary charge**2), Quantity(value=0.28047273444524545, unit=nanometer), Quantity(value=0.0, unit=kilojoule/mole)]\n",
      "[3, 6, Quantity(value=0.0, unit=elementary charge**2), Quantity(value=0.2949765655645629, unit=nanometer), Quantity(value=0.0, unit=kilojoule/mole)]\n",
      "[2, 5, Quantity(value=0.0, unit=elementary charge**2), Quantity(value=0.28047273444524545, unit=nanometer), Quantity(value=0.0, unit=kilojoule/mole)]\n",
      "[2, 6, Quantity(value=0.0, unit=elementary charge**2), Quantity(value=0.2949765655645629, unit=nanometer), Quantity(value=0.0, unit=kilojoule/mole)]\n",
      "[1, 7, Quantity(value=0.0, unit=elementary charge**2), Quantity(value=0.22343739850856315, unit=nanometer), Quantity(value=0.0, unit=kilojoule/mole)]\n",
      "[0, 5, Quantity(value=0.0, unit=elementary charge**2), Quantity(value=0.28047273444524545, unit=nanometer), Quantity(value=0.0, unit=kilojoule/mole)]\n",
      "[0, 6, Quantity(value=0.0, unit=elementary charge**2), Quantity(value=0.2949765655645629, unit=nanometer), Quantity(value=0.0, unit=kilojoule/mole)]\n",
      "[15, 17, Quantity(value=-0.12867667537303196, unit=elementary charge**2), Quantity(value=0.2014500181682605, unit=nanometer), Quantity(value=0.12012161254748986, unit=kilojoule/mole)]\n",
      "[14, 19, Quantity(value=0.04858040004463395, unit=elementary charge**2), Quantity(value=0.29355112752934986, unit=nanometer), Quantity(value=0.07687068191890915, unit=kilojoule/mole)]\n",
      "[14, 20, Quantity(value=0.04858040004463395, unit=elementary charge**2), Quantity(value=0.29355112752934986, unit=nanometer), Quantity(value=0.07687068191890915, unit=kilojoule/mole)]\n",
      "[14, 21, Quantity(value=0.04858040004463395, unit=elementary charge**2), Quantity(value=0.29355112752934986, unit=nanometer), Quantity(value=0.07687068191890915, unit=kilojoule/mole)]\n",
      "[13, 14, Quantity(value=0.030014325027576096, unit=elementary charge**2), Quantity(value=0.3024601147602527, unit=nanometer), Quantity(value=0.07687068174209402, unit=kilojoule/mole)]\n",
      "[12, 14, Quantity(value=0.030014325027576096, unit=elementary charge**2), Quantity(value=0.3024601147602527, unit=nanometer), Quantity(value=0.07687068174209402, unit=kilojoule/mole)]\n",
      "[11, 14, Quantity(value=0.030014325027576096, unit=elementary charge**2), Quantity(value=0.3024601147602527, unit=nanometer), Quantity(value=0.07687068174209402, unit=kilojoule/mole)]\n",
      "[9, 11, Quantity(value=0.004135575, unit=elementary charge**2), Quantity(value=0.2560442914951194, unit=nanometer), Quantity(value=0.03284440013043381, unit=kilojoule/mole)]\n",
      "[9, 12, Quantity(value=0.004135575, unit=elementary charge**2), Quantity(value=0.2560442914951194, unit=nanometer), Quantity(value=0.03284440013043381, unit=kilojoule/mole)]\n",
      "[9, 13, Quantity(value=0.004135575, unit=elementary charge**2), Quantity(value=0.2560442914951194, unit=nanometer), Quantity(value=0.03284440013043381, unit=kilojoule/mole)]\n",
      "[9, 15, Quantity(value=-0.0389484751129111, unit=elementary charge**2), Quantity(value=0.2715637472143426, unit=nanometer), Quantity(value=0.12012161290801605, unit=kilojoule/mole)]\n",
      "[9, 16, Quantity(value=-0.028510091666666664, unit=elementary charge**2), Quantity(value=0.2860675783336601, unit=nanometer), Quantity(value=0.10807766875538187, unit=kilojoule/mole)]\n",
      "[8, 17, Quantity(value=0.007635858333333333, unit=elementary charge**2), Quantity(value=0.22343739850856315, unit=nanometer), Quantity(value=0.08670021357153467, unit=kilojoule/mole)]\n",
      "[7, 9, Quantity(value=0.018647808333333335, unit=elementary charge**2), Quantity(value=0.1770215752181344, unit=nanometer), Quantity(value=0.032844400107403984, unit=kilojoule/mole)]\n",
      "[7, 10, Quantity(value=-0.04135145833333334, unit=elementary charge**2), Quantity(value=0.22343739850856315, unit=nanometer), Quantity(value=0.08670021357153467, unit=kilojoule/mole)]\n",
      "[7, 14, Quantity(value=0.13533822512434399, unit=elementary charge**2), Quantity(value=0.2234373984832677, unit=nanometer), Quantity(value=0.07687068168819385, unit=kilojoule/mole)]\n",
      "[6, 11, Quantity(value=-0.020888925, unit=elementary charge**2), Quantity(value=0.2949765655645629, unit=nanometer), Quantity(value=0.10807766850678557, unit=kilojoule/mole)]\n",
      "[6, 12, Quantity(value=-0.020888925, unit=elementary charge**2), Quantity(value=0.2949765655645629, unit=nanometer), Quantity(value=0.10807766850678557, unit=kilojoule/mole)]\n",
      "[6, 13, Quantity(value=-0.020888925, unit=elementary charge**2), Quantity(value=0.2949765655645629, unit=nanometer), Quantity(value=0.10807766850678557, unit=kilojoule/mole)]\n",
      "[17, 19, Quantity(value=0.02211453333333334, unit=elementary charge**2), Quantity(value=0.1770215752181344, unit=nanometer), Quantity(value=0.032844400107403984, unit=kilojoule/mole)]\n",
      "[17, 20, Quantity(value=0.02211453333333334, unit=elementary charge**2), Quantity(value=0.1770215752181344, unit=nanometer), Quantity(value=0.032844400107403984, unit=kilojoule/mole)]\n",
      "[17, 21, Quantity(value=0.02211453333333334, unit=elementary charge**2), Quantity(value=0.1770215752181344, unit=nanometer), Quantity(value=0.032844400107403984, unit=kilojoule/mole)]\n",
      "[5, 8, Quantity(value=0.0, unit=elementary charge**2), Quantity(value=0.3179795705047714, unit=nanometer), Quantity(value=0.0, unit=kilojoule/mole)]\n",
      "[4, 10, Quantity(value=0.0, unit=elementary charge**2), Quantity(value=0.33996695081977857, unit=nanometer), Quantity(value=0.0, unit=kilojoule/mole)]\n",
      "[4, 14, Quantity(value=0.0, unit=elementary charge**2), Quantity(value=0.33996695079448314, unit=nanometer), Quantity(value=0.0, unit=kilojoule/mole)]\n",
      "[1, 8, Quantity(value=0.0, unit=elementary charge**2), Quantity(value=0.33996695084507406, unit=nanometer), Quantity(value=0.0, unit=kilojoule/mole)]\n",
      "[15, 18, Quantity(value=0.07051425020441986, unit=elementary charge**2), Quantity(value=0.3179795705047714, unit=nanometer), Quantity(value=0.31708813251652274, unit=kilojoule/mole)]\n",
      "[10, 15, Quantity(value=0.08636812525038001, unit=elementary charge**2), Quantity(value=0.3179795705047714, unit=nanometer), Quantity(value=0.31708813251652274, unit=kilojoule/mole)]\n",
      "[10, 16, Quantity(value=0.06322104166666667, unit=elementary charge**2), Quantity(value=0.3324834016240888, unit=nanometer), Quantity(value=0.2852954212213748, unit=kilojoule/mole)]\n",
      "[8, 18, Quantity(value=-0.004184416666666665, unit=elementary charge**2), Quantity(value=0.33996695084507406, unit=nanometer), Quantity(value=0.22886479982370242, unit=kilojoule/mole)]\n",
      "[6, 15, Quantity(value=0.19673002557031768, unit=elementary charge**2), Quantity(value=0.3104960212837861, unit=nanometer), Quantity(value=0.3952717604467176, unit=kilojoule/mole)]\n",
      "[6, 16, Quantity(value=0.14400540833333333, unit=elementary charge**2), Quantity(value=0.3249998524031036, unit=nanometer), Quantity(value=0.3556399998277593, unit=kilojoule/mole)]\n",
      "[0, 1, Quantity(value=0.0, unit=elementary charge**2), Quantity(value=0.1, unit=nanometer), Quantity(value=0.0, unit=kilojoule/mole)]\n",
      "[0, 2, Quantity(value=0.0, unit=elementary charge**2), Quantity(value=0.1, unit=nanometer), Quantity(value=0.0, unit=kilojoule/mole)]\n",
      "[0, 3, Quantity(value=0.0, unit=elementary charge**2), Quantity(value=0.1, unit=nanometer), Quantity(value=0.0, unit=kilojoule/mole)]\n",
      "[0, 4, Quantity(value=0.0, unit=elementary charge**2), Quantity(value=0.1, unit=nanometer), Quantity(value=0.0, unit=kilojoule/mole)]\n",
      "[1, 2, Quantity(value=0.0, unit=elementary charge**2), Quantity(value=0.1, unit=nanometer), Quantity(value=0.0, unit=kilojoule/mole)]\n",
      "[1, 3, Quantity(value=0.0, unit=elementary charge**2), Quantity(value=0.1, unit=nanometer), Quantity(value=0.0, unit=kilojoule/mole)]\n",
      "[1, 4, Quantity(value=0.0, unit=elementary charge**2), Quantity(value=0.1, unit=nanometer), Quantity(value=0.0, unit=kilojoule/mole)]\n",
      "[1, 5, Quantity(value=0.0, unit=elementary charge**2), Quantity(value=0.1, unit=nanometer), Quantity(value=0.0, unit=kilojoule/mole)]\n",
      "[1, 6, Quantity(value=0.0, unit=elementary charge**2), Quantity(value=0.1, unit=nanometer), Quantity(value=0.0, unit=kilojoule/mole)]\n",
      "[2, 3, Quantity(value=0.0, unit=elementary charge**2), Quantity(value=0.1, unit=nanometer), Quantity(value=0.0, unit=kilojoule/mole)]\n",
      "[2, 4, Quantity(value=0.0, unit=elementary charge**2), Quantity(value=0.1, unit=nanometer), Quantity(value=0.0, unit=kilojoule/mole)]\n",
      "[3, 4, Quantity(value=0.0, unit=elementary charge**2), Quantity(value=0.1, unit=nanometer), Quantity(value=0.0, unit=kilojoule/mole)]\n",
      "[4, 5, Quantity(value=0.0, unit=elementary charge**2), Quantity(value=0.1, unit=nanometer), Quantity(value=0.0, unit=kilojoule/mole)]\n",
      "[4, 6, Quantity(value=0.0, unit=elementary charge**2), Quantity(value=0.1, unit=nanometer), Quantity(value=0.0, unit=kilojoule/mole)]\n",
      "[4, 7, Quantity(value=0.0, unit=elementary charge**2), Quantity(value=0.1, unit=nanometer), Quantity(value=0.0, unit=kilojoule/mole)]\n",
      "[4, 8, Quantity(value=0.0, unit=elementary charge**2), Quantity(value=0.1, unit=nanometer), Quantity(value=0.0, unit=kilojoule/mole)]\n",
      "[5, 6, Quantity(value=0.0, unit=elementary charge**2), Quantity(value=0.1, unit=nanometer), Quantity(value=0.0, unit=kilojoule/mole)]\n",
      "[6, 7, Quantity(value=0.0, unit=elementary charge**2), Quantity(value=0.1, unit=nanometer), Quantity(value=0.0, unit=kilojoule/mole)]\n",
      "[6, 8, Quantity(value=0.0, unit=elementary charge**2), Quantity(value=0.1, unit=nanometer), Quantity(value=0.0, unit=kilojoule/mole)]\n",
      "[6, 9, Quantity(value=0.0, unit=elementary charge**2), Quantity(value=0.1, unit=nanometer), Quantity(value=0.0, unit=kilojoule/mole)]\n",
      "[6, 10, Quantity(value=0.0, unit=elementary charge**2), Quantity(value=0.1, unit=nanometer), Quantity(value=0.0, unit=kilojoule/mole)]\n",
      "[6, 14, Quantity(value=0.0, unit=elementary charge**2), Quantity(value=0.1, unit=nanometer), Quantity(value=0.0, unit=kilojoule/mole)]\n",
      "[7, 8, Quantity(value=0.0, unit=elementary charge**2), Quantity(value=0.1, unit=nanometer), Quantity(value=0.0, unit=kilojoule/mole)]\n",
      "[8, 9, Quantity(value=0.0, unit=elementary charge**2), Quantity(value=0.1, unit=nanometer), Quantity(value=0.0, unit=kilojoule/mole)]\n",
      "[8, 10, Quantity(value=0.0, unit=elementary charge**2), Quantity(value=0.1, unit=nanometer), Quantity(value=0.0, unit=kilojoule/mole)]\n",
      "[8, 11, Quantity(value=0.0, unit=elementary charge**2), Quantity(value=0.1, unit=nanometer), Quantity(value=0.0, unit=kilojoule/mole)]\n",
      "[8, 12, Quantity(value=0.0, unit=elementary charge**2), Quantity(value=0.1, unit=nanometer), Quantity(value=0.0, unit=kilojoule/mole)]\n",
      "[8, 13, Quantity(value=0.0, unit=elementary charge**2), Quantity(value=0.1, unit=nanometer), Quantity(value=0.0, unit=kilojoule/mole)]\n",
      "[8, 14, Quantity(value=0.0, unit=elementary charge**2), Quantity(value=0.1, unit=nanometer), Quantity(value=0.0, unit=kilojoule/mole)]\n",
      "[8, 15, Quantity(value=0.0, unit=elementary charge**2), Quantity(value=0.1, unit=nanometer), Quantity(value=0.0, unit=kilojoule/mole)]\n",
      "[8, 16, Quantity(value=0.0, unit=elementary charge**2), Quantity(value=0.1, unit=nanometer), Quantity(value=0.0, unit=kilojoule/mole)]\n",
      "[9, 10, Quantity(value=0.0, unit=elementary charge**2), Quantity(value=0.1, unit=nanometer), Quantity(value=0.0, unit=kilojoule/mole)]\n",
      "[9, 14, Quantity(value=0.0, unit=elementary charge**2), Quantity(value=0.1, unit=nanometer), Quantity(value=0.0, unit=kilojoule/mole)]\n",
      "[10, 11, Quantity(value=0.0, unit=elementary charge**2), Quantity(value=0.1, unit=nanometer), Quantity(value=0.0, unit=kilojoule/mole)]\n",
      "[10, 12, Quantity(value=0.0, unit=elementary charge**2), Quantity(value=0.1, unit=nanometer), Quantity(value=0.0, unit=kilojoule/mole)]\n",
      "[10, 13, Quantity(value=0.0, unit=elementary charge**2), Quantity(value=0.1, unit=nanometer), Quantity(value=0.0, unit=kilojoule/mole)]\n",
      "[10, 14, Quantity(value=0.0, unit=elementary charge**2), Quantity(value=0.1, unit=nanometer), Quantity(value=0.0, unit=kilojoule/mole)]\n",
      "[11, 12, Quantity(value=0.0, unit=elementary charge**2), Quantity(value=0.1, unit=nanometer), Quantity(value=0.0, unit=kilojoule/mole)]\n",
      "[11, 13, Quantity(value=0.0, unit=elementary charge**2), Quantity(value=0.1, unit=nanometer), Quantity(value=0.0, unit=kilojoule/mole)]\n",
      "[12, 13, Quantity(value=0.0, unit=elementary charge**2), Quantity(value=0.1, unit=nanometer), Quantity(value=0.0, unit=kilojoule/mole)]\n",
      "[14, 15, Quantity(value=0.0, unit=elementary charge**2), Quantity(value=0.1, unit=nanometer), Quantity(value=0.0, unit=kilojoule/mole)]\n",
      "[14, 16, Quantity(value=0.0, unit=elementary charge**2), Quantity(value=0.1, unit=nanometer), Quantity(value=0.0, unit=kilojoule/mole)]\n",
      "[14, 17, Quantity(value=0.0, unit=elementary charge**2), Quantity(value=0.1, unit=nanometer), Quantity(value=0.0, unit=kilojoule/mole)]\n",
      "[14, 18, Quantity(value=0.0, unit=elementary charge**2), Quantity(value=0.1, unit=nanometer), Quantity(value=0.0, unit=kilojoule/mole)]\n",
      "[15, 16, Quantity(value=0.0, unit=elementary charge**2), Quantity(value=0.1, unit=nanometer), Quantity(value=0.0, unit=kilojoule/mole)]\n",
      "[16, 17, Quantity(value=0.0, unit=elementary charge**2), Quantity(value=0.1, unit=nanometer), Quantity(value=0.0, unit=kilojoule/mole)]\n",
      "[16, 18, Quantity(value=0.0, unit=elementary charge**2), Quantity(value=0.1, unit=nanometer), Quantity(value=0.0, unit=kilojoule/mole)]\n",
      "[16, 19, Quantity(value=0.0, unit=elementary charge**2), Quantity(value=0.1, unit=nanometer), Quantity(value=0.0, unit=kilojoule/mole)]\n",
      "[16, 20, Quantity(value=0.0, unit=elementary charge**2), Quantity(value=0.1, unit=nanometer), Quantity(value=0.0, unit=kilojoule/mole)]\n",
      "[16, 21, Quantity(value=0.0, unit=elementary charge**2), Quantity(value=0.1, unit=nanometer), Quantity(value=0.0, unit=kilojoule/mole)]\n",
      "[17, 18, Quantity(value=0.0, unit=elementary charge**2), Quantity(value=0.1, unit=nanometer), Quantity(value=0.0, unit=kilojoule/mole)]\n",
      "[18, 19, Quantity(value=0.0, unit=elementary charge**2), Quantity(value=0.1, unit=nanometer), Quantity(value=0.0, unit=kilojoule/mole)]\n",
      "[18, 20, Quantity(value=0.0, unit=elementary charge**2), Quantity(value=0.1, unit=nanometer), Quantity(value=0.0, unit=kilojoule/mole)]\n",
      "[18, 21, Quantity(value=0.0, unit=elementary charge**2), Quantity(value=0.1, unit=nanometer), Quantity(value=0.0, unit=kilojoule/mole)]\n",
      "[19, 20, Quantity(value=0.0, unit=elementary charge**2), Quantity(value=0.1, unit=nanometer), Quantity(value=0.0, unit=kilojoule/mole)]\n",
      "[19, 21, Quantity(value=0.0, unit=elementary charge**2), Quantity(value=0.1, unit=nanometer), Quantity(value=0.0, unit=kilojoule/mole)]\n",
      "[20, 21, Quantity(value=0.0, unit=elementary charge**2), Quantity(value=0.1, unit=nanometer), Quantity(value=0.0, unit=kilojoule/mole)]\n"
     ]
    }
   ],
   "source": [
    "for exception in range(nb_force.getNumExceptions()):\n",
    "    terms = nb_force.getExceptionParameters(exception)\n",
    "    print(terms)"
   ]
  },
  {
   "cell_type": "markdown",
   "metadata": {},
   "source": [
    "so it looks like the nbforce also zeroes the exceptions that live _inside_ the alchemical region _as well as_ the exceptions that straddle the alchemical region...again, this suggests we can just copy over the nonbonded force and leave it be..."
   ]
  },
  {
   "cell_type": "code",
   "execution_count": 143,
   "metadata": {
    "scrolled": true
   },
   "outputs": [
    {
     "data": {
      "text/plain": [
       "0"
      ]
     },
     "execution_count": 143,
     "metadata": {},
     "output_type": "execute_result"
    }
   ],
   "source": [
    "nb_force.getNumExceptionParameterOffsets()"
   ]
  },
  {
   "cell_type": "markdown",
   "metadata": {},
   "source": [
    "and just to be sure, there are no exception parameter offsets (good thing)"
   ]
  },
  {
   "cell_type": "markdown",
   "metadata": {},
   "source": [
    "now, let's query the custom nonbonded forces (5-6) and see what those are about..."
   ]
  },
  {
   "cell_type": "code",
   "execution_count": 144,
   "metadata": {
    "scrolled": true
   },
   "outputs": [
    {
     "name": "stdout",
     "output_type": "stream",
     "text": [
      "U_electrostatics;U_electrostatics=((lambda_electrostatics)^softcore_d)*ONE_4PI_EPS0*chargeprod/reff_electrostatics;reff_electrostatics = sigma*((softcore_beta*(1.0-(lambda_electrostatics))^softcore_e + (r/sigma)^softcore_f))^(1/softcore_f);ONE_4PI_EPS0 = 138.935456;chargeprod = charge1*charge2;sigma = 0.5*(sigma1 + sigma2);\n",
      "charge\n",
      "sigma\n",
      "(0.1123, 0.26495327872602226)\n",
      "(-0.3662, 0.33996695084507406)\n",
      "(0.1123, 0.26495327872602226)\n",
      "(0.1123, 0.26495327872602226)\n",
      "(0.5972000021951126, 0.33996695079448314)\n",
      "(-0.5679000016463344, 0.2959921901644687)\n",
      "(-0.4157, 0.3249998524031036)\n",
      "(0.27190000000000003, 0.10690784617205229)\n",
      "(0.033699999999999994, 0.33996695084507406)\n",
      "(0.0823, 0.24713530426421654)\n",
      "(-0.1825, 0.33996695084507406)\n",
      "(0.06029999999999999, 0.26495327872602226)\n",
      "(0.06029999999999999, 0.26495327872602226)\n",
      "(0.06029999999999999, 0.26495327872602226)\n",
      "(0.5973000005487781, 0.33996695079448314)\n",
      "(-0.5679000016463344, 0.2959921901644687)\n",
      "(-0.4157, 0.3249998524031036)\n",
      "(0.27190000000000003, 0.10690784617205229)\n",
      "(-0.149, 0.33996695084507406)\n",
      "(0.0976, 0.24713530426421654)\n",
      "(0.0976, 0.24713530426421654)\n",
      "(0.0976, 0.24713530426421654)\n"
     ]
    }
   ],
   "source": [
    "cnb_force = force_dict[5]\n",
    "energy_expr= cnb_force.getEnergyFunction()\n",
    "print(energy_expr)\n",
    "num_params = cnb_force.getNumPerParticleParameters()\n",
    "for idx in range(num_params):\n",
    "    print(cnb_force.getPerParticleParameterName(idx))\n",
    "for particle in range(cnb_force.getNumParticles()):\n",
    "    terms = cnb_force.getParticleParameters(particle)\n",
    "    print(terms)"
   ]
  },
  {
   "cell_type": "markdown",
   "metadata": {},
   "source": [
    "so it looks like these are electrostatics custom forces...we will have to loop through these, add another term called `is_alch` (whether is in alch region or not) and multiply the expression by a mixing term that scales the interaction appropriately if is in alchemical group or not..."
   ]
  },
  {
   "cell_type": "code",
   "execution_count": 145,
   "metadata": {
    "scrolled": true
   },
   "outputs": [
    {
     "name": "stdout",
     "output_type": "stream",
     "text": [
      "[5, 7]\n",
      "[4, 9]\n",
      "[3, 5]\n",
      "[3, 6]\n",
      "[2, 5]\n",
      "[2, 6]\n",
      "[1, 7]\n",
      "[0, 5]\n",
      "[0, 6]\n",
      "[15, 17]\n",
      "[14, 19]\n",
      "[14, 20]\n",
      "[14, 21]\n",
      "[13, 14]\n",
      "[12, 14]\n",
      "[11, 14]\n",
      "[9, 11]\n",
      "[9, 12]\n",
      "[9, 13]\n",
      "[9, 15]\n",
      "[9, 16]\n",
      "[8, 17]\n",
      "[7, 9]\n",
      "[7, 10]\n",
      "[7, 14]\n",
      "[6, 11]\n",
      "[6, 12]\n",
      "[6, 13]\n",
      "[17, 19]\n",
      "[17, 20]\n",
      "[17, 21]\n",
      "[5, 8]\n",
      "[4, 10]\n",
      "[4, 14]\n",
      "[1, 8]\n",
      "[15, 18]\n",
      "[10, 15]\n",
      "[10, 16]\n",
      "[8, 18]\n",
      "[6, 15]\n",
      "[6, 16]\n",
      "[0, 1]\n",
      "[0, 2]\n",
      "[0, 3]\n",
      "[0, 4]\n",
      "[1, 2]\n",
      "[1, 3]\n",
      "[1, 4]\n",
      "[1, 5]\n",
      "[1, 6]\n",
      "[2, 3]\n",
      "[2, 4]\n",
      "[3, 4]\n",
      "[4, 5]\n",
      "[4, 6]\n",
      "[4, 7]\n",
      "[4, 8]\n",
      "[5, 6]\n",
      "[6, 7]\n",
      "[6, 8]\n",
      "[6, 9]\n",
      "[6, 10]\n",
      "[6, 14]\n",
      "[7, 8]\n",
      "[8, 9]\n",
      "[8, 10]\n",
      "[8, 11]\n",
      "[8, 12]\n",
      "[8, 13]\n",
      "[8, 14]\n",
      "[8, 15]\n",
      "[8, 16]\n",
      "[9, 10]\n",
      "[9, 14]\n",
      "[10, 11]\n",
      "[10, 12]\n",
      "[10, 13]\n",
      "[10, 14]\n",
      "[11, 12]\n",
      "[11, 13]\n",
      "[12, 13]\n",
      "[14, 15]\n",
      "[14, 16]\n",
      "[14, 17]\n",
      "[14, 18]\n",
      "[15, 16]\n",
      "[16, 17]\n",
      "[16, 18]\n",
      "[16, 19]\n",
      "[16, 20]\n",
      "[16, 21]\n",
      "[17, 18]\n",
      "[18, 19]\n",
      "[18, 20]\n",
      "[18, 21]\n",
      "[19, 20]\n",
      "[19, 21]\n",
      "[20, 21]\n"
     ]
    }
   ],
   "source": [
    "excls = cnb_force.getNumExclusions()\n",
    "for idx in range(excls):\n",
    "    print(cnb_force.getExclusionParticles(idx))"
   ]
  },
  {
   "cell_type": "markdown",
   "metadata": {},
   "source": [
    "the force also seems to be removing all in and outgroup normal exceptions, as well as the intergroup exceptions. it also adds exceptions between all intra group atoms. i.e. only intergroup interactions are working here... "
   ]
  },
  {
   "cell_type": "markdown",
   "metadata": {},
   "source": [
    "i am going to go out on a whim and say that force 6 is the _exact_ treatment as force 5 except it is for sterics forces..."
   ]
  },
  {
   "cell_type": "markdown",
   "metadata": {},
   "source": [
    "now let's take a look at forces 7 and 8, which are custombond forces"
   ]
  },
  {
   "cell_type": "code",
   "execution_count": 146,
   "metadata": {
    "scrolled": true
   },
   "outputs": [
    {
     "name": "stdout",
     "output_type": "stream",
     "text": [
      "U_electrostatics;U_electrostatics=((lambda_electrostatics)^softcore_d)*ONE_4PI_EPS0*chargeprod/reff_electrostatics;reff_electrostatics = sigma*((softcore_beta*(1.0-(lambda_electrostatics))^softcore_e + (r/sigma)^softcore_f))^(1/softcore_f);ONE_4PI_EPS0 = 138.935456;\n",
      "[5, 7, (-0.12867667537303196, 0.2014500181682605)]\n",
      "[4, 9, (0.04095796681721481, 0.29355112752934986)]\n",
      "[3, 6, (-0.03890259166666667, 0.2949765655645629)]\n",
      "[2, 6, (-0.03890259166666667, 0.2949765655645629)]\n",
      "[1, 7, (-0.08297481666666669, 0.22343739850856315)]\n",
      "[0, 6, (-0.03890259166666667, 0.2949765655645629)]\n",
      "[5, 8, (-0.015948525046234556, 0.3179795705047714)]\n",
      "[4, 10, (-0.09082416700050672, 0.33996695081977857)]\n",
      "[4, 14, (0.29725630136572584, 0.33996695079448314)]\n",
      "[1, 8, (-0.010284116666666666, 0.33996695084507406)]\n"
     ]
    }
   ],
   "source": [
    "cbf = force_dict[7]\n",
    "print(cbf.getEnergyFunction())\n",
    "for bond in range(cbf.getNumBonds()):\n",
    "    print(cbf.getBondParameters(bond))"
   ]
  },
  {
   "cell_type": "code",
   "execution_count": 147,
   "metadata": {
    "scrolled": true
   },
   "outputs": [
    {
     "name": "stdout",
     "output_type": "stream",
     "text": [
      "U_electrostatics;U_electrostatics=((lambda_electrostatics)^softcore_d)*ONE_4PI_EPS0*chargeprod/reff_electrostatics;reff_electrostatics = sigma*((softcore_beta*(1.0-(lambda_electrostatics))^softcore_e + (r/sigma)^softcore_f))^(1/softcore_f);ONE_4PI_EPS0 = 138.935456;\n",
      "[3, 5, (-0.053145975154069464, 0.28047273444524545)]\n",
      "[2, 5, (-0.053145975154069464, 0.28047273444524545)]\n",
      "[0, 5, (-0.053145975154069464, 0.28047273444524545)]\n"
     ]
    }
   ],
   "source": [
    "cbf = force_dict[8]\n",
    "print(cbf.getEnergyFunction())\n",
    "for bond in range(cbf.getNumBonds()):\n",
    "    print(cbf.getBondParameters(bond))"
   ]
  },
  {
   "cell_type": "markdown",
   "metadata": {},
   "source": [
    "aha, so this is the _inter_ group electrostatics exception force, and the _intra_ group electrostatics exception force..."
   ]
  },
  {
   "cell_type": "markdown",
   "metadata": {},
   "source": [
    "now, let's look at the customnonbonded forces 9 and 10 (probably electrostatic and steric, respectively)\n"
   ]
  },
  {
   "cell_type": "code",
   "execution_count": 148,
   "metadata": {
    "scrolled": true
   },
   "outputs": [
    {
     "name": "stdout",
     "output_type": "stream",
     "text": [
      "U_sterics;U_sterics = ((lambda_sterics)^softcore_a)*4*epsilon*x*(x-1.0);x = (sigma/reff_sterics)^6;reff_sterics = sigma*((softcore_alpha*(1.0-(lambda_sterics))^softcore_b + (r/sigma)^softcore_c))^(1/softcore_c);epsilon = sqrt(epsilon1*epsilon2);sigma = 0.5*(sigma1 + sigma2);\n",
      "sigma\n",
      "epsilon\n",
      "(0.26495327872602226, 0.06568880010977264)\n",
      "(0.33996695084507406, 0.45772959964740484)\n",
      "(0.26495327872602226, 0.06568880010977264)\n",
      "(0.26495327872602226, 0.06568880010977264)\n",
      "(0.33996695079448314, 0.35982400053705343)\n",
      "(0.2959921901644687, 0.8786399993381852)\n",
      "(0.3249998524031036, 0.7112799996555186)\n",
      "(0.10690784617205229, 0.06568880001765333)\n",
      "(0.33996695084507406, 0.45772959964740484)\n",
      "(0.24713530426421654, 0.0656888004119626)\n",
      "(0.33996695084507406, 0.45772959964740484)\n",
      "(0.26495327872602226, 0.06568880010977264)\n",
      "(0.26495327872602226, 0.06568880010977264)\n",
      "(0.26495327872602226, 0.06568880010977264)\n",
      "(0.33996695079448314, 0.35982400053705343)\n",
      "(0.2959921901644687, 0.8786399993381852)\n",
      "(0.3249998524031036, 0.7112799996555186)\n",
      "(0.10690784617205229, 0.06568880001765333)\n",
      "(0.33996695084507406, 0.45772959964740484)\n",
      "(0.24713530426421654, 0.0656888004119626)\n",
      "(0.24713530426421654, 0.0656888004119626)\n",
      "(0.24713530426421654, 0.0656888004119626)\n"
     ]
    }
   ],
   "source": [
    "cnb_force = force_dict[9]\n",
    "energy_expr= cnb_force.getEnergyFunction()\n",
    "print(energy_expr)\n",
    "num_params = cnb_force.getNumPerParticleParameters()\n",
    "for idx in range(num_params):\n",
    "    print(cnb_force.getPerParticleParameterName(idx))\n",
    "for particle in range(cnb_force.getNumParticles()):\n",
    "    terms = cnb_force.getParticleParameters(particle)\n",
    "    print(terms)"
   ]
  },
  {
   "cell_type": "code",
   "execution_count": 149,
   "metadata": {
    "scrolled": true
   },
   "outputs": [
    {
     "name": "stdout",
     "output_type": "stream",
     "text": [
      "[5, 7]\n",
      "[4, 9]\n",
      "[3, 5]\n",
      "[3, 6]\n",
      "[2, 5]\n",
      "[2, 6]\n",
      "[1, 7]\n",
      "[0, 5]\n",
      "[0, 6]\n",
      "[15, 17]\n",
      "[14, 19]\n",
      "[14, 20]\n",
      "[14, 21]\n",
      "[13, 14]\n",
      "[12, 14]\n",
      "[11, 14]\n",
      "[9, 11]\n",
      "[9, 12]\n",
      "[9, 13]\n",
      "[9, 15]\n",
      "[9, 16]\n",
      "[8, 17]\n",
      "[7, 9]\n",
      "[7, 10]\n",
      "[7, 14]\n",
      "[6, 11]\n",
      "[6, 12]\n",
      "[6, 13]\n",
      "[17, 19]\n",
      "[17, 20]\n",
      "[17, 21]\n",
      "[5, 8]\n",
      "[4, 10]\n",
      "[4, 14]\n",
      "[1, 8]\n",
      "[15, 18]\n",
      "[10, 15]\n",
      "[10, 16]\n",
      "[8, 18]\n",
      "[6, 15]\n",
      "[6, 16]\n",
      "[0, 1]\n",
      "[0, 2]\n",
      "[0, 3]\n",
      "[0, 4]\n",
      "[1, 2]\n",
      "[1, 3]\n",
      "[1, 4]\n",
      "[1, 5]\n",
      "[1, 6]\n",
      "[2, 3]\n",
      "[2, 4]\n",
      "[3, 4]\n",
      "[4, 5]\n",
      "[4, 6]\n",
      "[4, 7]\n",
      "[4, 8]\n",
      "[5, 6]\n",
      "[6, 7]\n",
      "[6, 8]\n",
      "[6, 9]\n",
      "[6, 10]\n",
      "[6, 14]\n",
      "[7, 8]\n",
      "[8, 9]\n",
      "[8, 10]\n",
      "[8, 11]\n",
      "[8, 12]\n",
      "[8, 13]\n",
      "[8, 14]\n",
      "[8, 15]\n",
      "[8, 16]\n",
      "[9, 10]\n",
      "[9, 14]\n",
      "[10, 11]\n",
      "[10, 12]\n",
      "[10, 13]\n",
      "[10, 14]\n",
      "[11, 12]\n",
      "[11, 13]\n",
      "[12, 13]\n",
      "[14, 15]\n",
      "[14, 16]\n",
      "[14, 17]\n",
      "[14, 18]\n",
      "[15, 16]\n",
      "[16, 17]\n",
      "[16, 18]\n",
      "[16, 19]\n",
      "[16, 20]\n",
      "[16, 21]\n",
      "[17, 18]\n",
      "[18, 19]\n",
      "[18, 20]\n",
      "[18, 21]\n",
      "[19, 20]\n",
      "[19, 21]\n",
      "[20, 21]\n"
     ]
    }
   ],
   "source": [
    "excls = cnb_force.getNumExclusions()\n",
    "for idx in range(excls):\n",
    "    print(cnb_force.getExclusionParticles(idx))"
   ]
  },
  {
   "cell_type": "markdown",
   "metadata": {},
   "source": [
    "ok so i was wrong...these are sterics and electrostatics, respectively. it looks like (based on the exceptions) these terms add the interactions between the ingroup and outgroup atoms...let's see if there are interaction groups"
   ]
  },
  {
   "cell_type": "code",
   "execution_count": 150,
   "metadata": {
    "scrolled": true
   },
   "outputs": [
    {
     "name": "stdout",
     "output_type": "stream",
     "text": [
      "[(6, 7, 8, 9, 10, 11, 12, 13, 14, 15, 16, 17, 18, 19, 20, 21), (0, 1, 2, 3, 4, 5)]\n"
     ]
    }
   ],
   "source": [
    "for i in range(cnb_force.getNumInteractionGroups()):\n",
    "    print(cnb_force.getInteractionGroupParameters(i))"
   ]
  },
  {
   "cell_type": "markdown",
   "metadata": {},
   "source": [
    "yeps...that's right"
   ]
  },
  {
   "cell_type": "markdown",
   "metadata": {},
   "source": [
    "now what are forces 11 and 12?"
   ]
  },
  {
   "cell_type": "code",
   "execution_count": 151,
   "metadata": {
    "scrolled": true
   },
   "outputs": [
    {
     "name": "stdout",
     "output_type": "stream",
     "text": [
      "U_sterics;U_sterics = ((lambda_sterics)^softcore_a)*4*epsilon*x*(x-1.0);x = (sigma/reff_sterics)^6;reff_sterics = sigma*((softcore_alpha*(1.0-(lambda_sterics))^softcore_b + (r/sigma)^softcore_c))^(1/softcore_c);\n",
      "[5, 7, (0.2014500181682605, 0.12012161254748986)]\n",
      "[4, 9, (0.29355112752934986, 0.07687068191890915)]\n",
      "[3, 6, (0.2949765655645629, 0.10807766850678557)]\n",
      "[2, 6, (0.2949765655645629, 0.10807766850678557)]\n",
      "[1, 7, (0.22343739850856315, 0.08670021357153467)]\n",
      "[0, 6, (0.2949765655645629, 0.10807766850678557)]\n",
      "[5, 8, (0.3179795705047714, 0.31708813251652274)]\n",
      "[4, 10, (0.33996695081977857, 0.20291752986703307)]\n",
      "[4, 14, (0.33996695079448314, 0.17991200026852672)]\n",
      "[1, 8, (0.33996695084507406, 0.22886479982370242)]\n"
     ]
    }
   ],
   "source": [
    "cbf = force_dict[11]\n",
    "print(cbf.getEnergyFunction())\n",
    "for i in range(cbf.getNumBonds()):\n",
    "    print(cbf.getBondParameters(i))"
   ]
  },
  {
   "cell_type": "code",
   "execution_count": 152,
   "metadata": {
    "scrolled": true
   },
   "outputs": [
    {
     "name": "stdout",
     "output_type": "stream",
     "text": [
      "U_sterics;U_sterics = ((lambda_sterics)^softcore_a)*4*epsilon*x*(x-1.0);x = (sigma/reff_sterics)^6;reff_sterics = sigma*((softcore_alpha*(1.0-(lambda_sterics))^softcore_b + (r/sigma)^softcore_c))^(1/softcore_c);lambda_sterics=1.0;\n",
      "[3, 5, (0.28047273444524545, 0.12012161263171671)]\n",
      "[2, 5, (0.28047273444524545, 0.12012161263171671)]\n",
      "[0, 5, (0.28047273444524545, 0.12012161263171671)]\n"
     ]
    }
   ],
   "source": [
    "cbf = force_dict[12]\n",
    "print(cbf.getEnergyFunction())\n",
    "for i in range(cbf.getNumBonds()):\n",
    "    print(cbf.getBondParameters(i))"
   ]
  },
  {
   "cell_type": "markdown",
   "metadata": {},
   "source": [
    "aha, so this is the _inter_ group sterics exception force, and the _intra_ group sterics exception force..."
   ]
  },
  {
   "cell_type": "markdown",
   "metadata": {},
   "source": [
    "## Conclusion\n",
    "so now that we know what forces govern what interactions, it can be easily said that if we can create a hybrid force (for each endstate) that has all of the valence terms on and the appropriate nonbonded term turned on, then we can throw it into an `AbsoluteAlchemicalFactory` so that we may perform blues.<br>\n",
    "Afterwards, if we want to do blest, then all we have to do is iterate through all ofthe custom forces and add a modifying expression that scales inter, and intra alchemical region atoms accordingly (along with an int into each per particle or per bond parameter). <br>\n",
    "This seems _very_ doable. Furthermore, i am pretty convinced that (in the future) we may be able to rewrite the modified Absolute factory in such a way that it allows for the _full_ relative partition and alchemical interpolation."
   ]
  },
  {
   "cell_type": "markdown",
   "metadata": {},
   "source": []
  }
 ],
 "metadata": {
  "kernelspec": {
   "display_name": "Python 3",
   "language": "python",
   "name": "python3"
  },
  "language_info": {
   "codemirror_mode": {
    "name": "ipython",
    "version": 3
   },
   "file_extension": ".py",
   "mimetype": "text/x-python",
   "name": "python",
   "nbconvert_exporter": "python",
   "pygments_lexer": "ipython3",
   "version": "3.6.7"
  }
 },
 "nbformat": 4,
 "nbformat_minor": 4
}
