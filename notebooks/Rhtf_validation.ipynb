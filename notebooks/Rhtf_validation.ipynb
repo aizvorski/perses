{
 "cells": [
  {
   "cell_type": "markdown",
   "metadata": {},
   "source": [
    "## Repartitioned hybrid system check"
   ]
  },
  {
   "cell_type": "markdown",
   "metadata": {},
   "source": [
    "i will attempt to validate that the hybrid topology factory "
   ]
  },
  {
   "cell_type": "code",
   "execution_count": 30,
   "metadata": {
    "scrolled": true
   },
   "outputs": [],
   "source": [
    "from perses.tests.test_topology_proposal import generate_atp, generate_dipeptide_top_pos_sys"
   ]
  },
  {
   "cell_type": "code",
   "execution_count": 31,
   "metadata": {
    "scrolled": true
   },
   "outputs": [
    {
     "name": "stderr",
     "output_type": "stream",
     "text": [
      "DEBUG:perses.forcefields.system_generators:Trying GAFFTemplateGenerator to load gaff-2.11\n"
     ]
    }
   ],
   "source": [
    "atp, sys_gen = generate_atp()"
   ]
  },
  {
   "cell_type": "code",
   "execution_count": 32,
   "metadata": {
    "scrolled": true
   },
   "outputs": [
    {
     "name": "stderr",
     "output_type": "stream",
     "text": [
      "INFO:proposal_generator:\tConducting polymer point mutation proposal...\n",
      "INFO:proposal_generator:Using matching_criterion to chose best atom map\n",
      "INFO:proposal_generator:Scaffold has symmetry of 0\n",
      "WARNING:proposal_generator:Two molecules are not similar to have a common scaffold\n",
      "WARNING:proposal_generator:Proceeding with direct mapping of molecules, but please check atom mapping and the geometry of the ligands.\n",
      "INFO:proposal_generator:len [{4: 4, 9: 9}]\n",
      "INFO:proposal_generator:{4: 4, 9: 9}\n",
      "INFO:proposal_generator:Only one map so returning that one\n",
      "INFO:proposal_generator:{4: 4, 9: 9}\n",
      "INFO:geometry:propose: performing forward proposal\n",
      "INFO:geometry:propose: unique new atoms detected; proceeding to _logp_propose...\n",
      "INFO:geometry:Conducting forward proposal...\n",
      "INFO:geometry:Computing proposal order with NetworkX...\n",
      "INFO:geometry:number of atoms to be placed: 7\n",
      "INFO:geometry:Atom index proposal order is [14, 18, 13, 17, 16, 19, 15]\n",
      "INFO:geometry:omitted_bonds: []\n",
      "INFO:geometry:direction of proposal is forward; creating atoms_with_positions and new positions from old system/topology...\n",
      "INFO:geometry:creating growth system...\n",
      "INFO:geometry:\tcreating bond force...\n",
      "INFO:geometry:\tthere are 11 bonds in reference force.\n",
      "INFO:geometry:\tcreating angle force...\n",
      "INFO:geometry:\tthere are 43 angles in reference force.\n",
      "INFO:geometry:\tcreating torsion force...\n",
      "INFO:geometry:\tcreating extra torsions force...\n",
      "INFO:geometry:\tthere are 72 torsions in reference force.\n",
      "INFO:geometry:\tcreating nonbonded force...\n",
      "INFO:geometry:\t\tgrabbing reference nonbonded method, cutoff, switching function, switching distance...\n",
      "INFO:geometry:\t\tcreating nonbonded exception force (i.e. custom bond for 1,4s)...\n",
      "INFO:geometry:\t\tlooping through exceptions calculating growth indices, and adding appropriate interactions to custom bond force.\n",
      "INFO:geometry:\t\tthere are 121 in the reference Nonbonded force\n",
      "INFO:geometry:Neglected angle terms : []\n",
      "INFO:geometry:omitted_growth_terms: {'bonds': [], 'angles': [], 'torsions': [], '1,4s': []}\n",
      "INFO:geometry:extra torsions: {0: (14, 10, 8, 18, [1, Quantity(value=1.0655064807976995, unit=radian), Quantity(value=120.0, unit=kilocalorie/mole), 2])}\n",
      "INFO:geometry:neglected angle terms include []\n",
      "INFO:geometry:log probability choice of torsions and atom order: -12.86077001571492\n",
      "INFO:geometry:creating platform, integrators, and contexts; setting growth parameter\n",
      "INFO:geometry:setting atoms_with_positions context new positions\n",
      "INFO:geometry:There are 7 new atoms\n",
      "INFO:geometry:\treduced angle potential = 0.618051574381436.\n",
      "INFO:geometry:\treduced angle potential = 0.03210540696848344.\n",
      "INFO:geometry:\treduced angle potential = 0.40060538668439394.\n",
      "INFO:geometry:\treduced angle potential = 0.013980833954933373.\n",
      "INFO:geometry:\treduced angle potential = 0.00011012757358698644.\n",
      "INFO:geometry:\treduced angle potential = 0.08804548473179567.\n"
     ]
    },
    {
     "name": "stdout",
     "output_type": "stream",
     "text": [
      "making topology proposal\n",
      "generating geometry engine\n",
      "making geometry proposal from ALA to THR\n",
      "Warning: Returning Reference platform instead of requested platform CUDA\n",
      "conducting subsequent work with the following platform: Reference\n",
      "conducting subsequent work with the following platform: CPU\n"
     ]
    },
    {
     "name": "stderr",
     "output_type": "stream",
     "text": [
      "INFO:geometry:\treduced angle potential = 1.4498407725171036.\n",
      "INFO:geometry:\tbeginning construction of no_nonbonded final system...\n",
      "INFO:geometry:\tinitial no-nonbonded final system forces ['HarmonicBondForce', 'HarmonicAngleForce', 'PeriodicTorsionForce', 'NonbondedForce']\n",
      "INFO:geometry:\tfinal no-nonbonded final system forces dict_keys(['HarmonicBondForce', 'HarmonicAngleForce', 'PeriodicTorsionForce', 'NonbondedForce'])\n",
      "INFO:geometry:\tthere are 11 bond forces in the no-nonbonded final system\n",
      "INFO:geometry:\tthere are 43 angle forces in the no-nonbonded final system\n",
      "INFO:geometry:\tthere are 72 torsion forces in the no-nonbonded final system\n",
      "INFO:geometry:forward final system defined with 0 neglected angles.\n",
      "INFO:geometry:total reduced potential before atom placement: 16.81404844848707\n",
      "INFO:geometry:total reduced energy added from growth system: -57.56446364851363\n",
      "INFO:geometry:final reduced energy -40.75041520002655\n",
      "INFO:geometry:sum of energies: -40.75041520002656\n",
      "INFO:geometry:magnitude of difference in the energies: 7.105427357601002e-15\n",
      "INFO:geometry:Final logp_proposal: 37.237175126658045\n",
      "INFO:geometry:logp_reverse: performing reverse proposal\n",
      "INFO:geometry:logp_reverse: unique new atoms detected; proceeding to _logp_propose...\n",
      "INFO:geometry:Conducting forward proposal...\n",
      "INFO:geometry:Computing proposal order with NetworkX...\n",
      "INFO:geometry:number of atoms to be placed: 3\n",
      "INFO:geometry:Atom index proposal order is [12, 13, 11]\n",
      "INFO:geometry:omitted_bonds: []\n",
      "INFO:geometry:direction of proposal is reverse; creating atoms_with_positions from old system/topology\n",
      "INFO:geometry:creating growth system...\n",
      "INFO:geometry:\tcreating bond force...\n",
      "INFO:geometry:\tthere are 9 bonds in reference force.\n",
      "INFO:geometry:\tcreating angle force...\n",
      "INFO:geometry:\tthere are 36 angles in reference force.\n",
      "INFO:geometry:\tcreating torsion force...\n",
      "INFO:geometry:\tcreating extra torsions force...\n",
      "INFO:geometry:\tthere are 42 torsions in reference force.\n",
      "INFO:geometry:\tcreating nonbonded force...\n",
      "INFO:geometry:\t\tgrabbing reference nonbonded method, cutoff, switching function, switching distance...\n",
      "INFO:geometry:\t\tcreating nonbonded exception force (i.e. custom bond for 1,4s)...\n",
      "INFO:geometry:\t\tlooping through exceptions calculating growth indices, and adding appropriate interactions to custom bond force.\n",
      "INFO:geometry:\t\tthere are 98 in the reference Nonbonded force\n",
      "INFO:geometry:Neglected angle terms : []\n",
      "INFO:geometry:omitted_growth_terms: {'bonds': [], 'angles': [], 'torsions': [], '1,4s': []}\n",
      "INFO:geometry:extra torsions: {}\n",
      "INFO:geometry:neglected angle terms include []\n",
      "INFO:geometry:log probability choice of torsions and atom order: -5.0875963352323845\n",
      "INFO:geometry:creating platform, integrators, and contexts; setting growth parameter\n",
      "INFO:geometry:setting atoms_with_positions context old positions\n",
      "INFO:geometry:There are 3 new atoms\n",
      "INFO:geometry:\treduced angle potential = 3.205828647416432e-13.\n",
      "INFO:geometry:\treduced angle potential = 7.390951941228323e-11.\n",
      "INFO:geometry:\treduced angle potential = 1.2915573155343707e-10.\n",
      "INFO:geometry:\tbeginning construction of no_nonbonded final system...\n",
      "INFO:geometry:\tinitial no-nonbonded final system forces ['HarmonicBondForce', 'HarmonicAngleForce', 'PeriodicTorsionForce', 'NonbondedForce']\n",
      "INFO:geometry:\tfinal no-nonbonded final system forces dict_keys(['HarmonicBondForce', 'HarmonicAngleForce', 'PeriodicTorsionForce', 'NonbondedForce'])\n",
      "INFO:geometry:\tthere are 9 bond forces in the no-nonbonded final system\n",
      "INFO:geometry:\tthere are 36 angle forces in the no-nonbonded final system\n",
      "INFO:geometry:\tthere are 42 torsion forces in the no-nonbonded final system\n",
      "INFO:geometry:reverse final system defined with 0 neglected angles.\n",
      "INFO:geometry:total reduced potential before atom placement: 16.81404844848707\n",
      "INFO:geometry:total reduced energy added from growth system: 8.81651504972902\n",
      "INFO:geometry:final reduced energy 25.630563498216084\n",
      "INFO:geometry:sum of energies: 25.63056349821609\n",
      "INFO:geometry:magnitude of difference in the energies: 7.105427357601002e-15\n",
      "INFO:geometry:Final logp_proposal: 13.388341435153622\n",
      "INFO:relative:Beginning nonbonded method, total particle, barostat, and exceptions retrieval...\n",
      "INFO:relative:Old system forces: dict_keys(['HarmonicBondForce', 'HarmonicAngleForce', 'PeriodicTorsionForce', 'NonbondedForce'])\n",
      "INFO:relative:New system forces: dict_keys(['HarmonicBondForce', 'HarmonicAngleForce', 'PeriodicTorsionForce', 'NonbondedForce'])\n",
      "INFO:relative:No unknown forces.\n",
      "INFO:relative:Nonbonded method to be used (i.e. from old system): 0\n",
      "INFO:relative:Adding and mapping old atoms to hybrid system...\n",
      "INFO:relative:Adding and mapping new atoms to hybrid system...\n"
     ]
    },
    {
     "name": "stdout",
     "output_type": "stream",
     "text": [
      "conducting subsequent work with the following platform: CPU\n",
      "conducting subsequent work with the following platform: CPU\n",
      "conducting subsequent work with the following platform: CPU\n",
      "Warning: Returning Reference platform instead of requested platform CUDA\n",
      "conducting subsequent work with the following platform: Reference\n",
      "conducting subsequent work with the following platform: CPU\n",
      "added energy components: [('CustomBondForce', 0.27069898623576366), ('CustomAngleForce', 7.246663009150417), ('CustomTorsionForce', 11.676179250794409), ('CustomBondForce', -76.75800489469422)]\n",
      "Warning: Returning Reference platform instead of requested platform CUDA\n",
      "conducting subsequent work with the following platform: Reference\n",
      "conducting subsequent work with the following platform: CPU\n",
      "conducting subsequent work with the following platform: CPU\n",
      "conducting subsequent work with the following platform: CPU\n",
      "conducting subsequent work with the following platform: CPU\n",
      "Warning: Returning Reference platform instead of requested platform CUDA\n",
      "conducting subsequent work with the following platform: Reference\n",
      "conducting subsequent work with the following platform: CPU\n",
      "added energy components: [('CustomBondForce', 0.0), ('CustomAngleForce', 0.00017809232534266413), ('CustomTorsionForce', 0.004336750525590176), ('CustomBondForce', 8.812000206878086)]\n"
     ]
    },
    {
     "name": "stderr",
     "output_type": "stream",
     "text": [
      "INFO:relative:No MonteCarloBarostat added.\n",
      "INFO:relative:getDefaultPeriodicBoxVectors added to hybrid: [Quantity(value=Vec3(x=2.0, y=0.0, z=0.0), unit=nanometer), Quantity(value=Vec3(x=0.0, y=2.0, z=0.0), unit=nanometer), Quantity(value=Vec3(x=0.0, y=0.0, z=2.0), unit=nanometer)]\n",
      "INFO:relative:Determined atom classes.\n",
      "INFO:relative:Generating old system exceptions dict...\n",
      "INFO:relative:Generating new system exceptions dict...\n",
      "INFO:relative:Handling constraints...\n",
      "INFO:relative:Handling virtual sites...\n",
      "INFO:relative:\t_handle_virtual_sites: numVirtualSites: 0\n",
      "INFO:relative:Adding bond force terms...\n",
      "INFO:relative:Adding angle force terms...\n",
      "INFO:relative:Adding torsion force terms...\n",
      "INFO:relative:Adding nonbonded force terms...\n",
      "INFO:relative:\t_add_nonbonded_force_terms: <simtk.openmm.openmm.NonbondedForce; proxy of <Swig Object of type 'OpenMM::NonbondedForce *' at 0x7fa7357a61b0> > added to hybrid system\n",
      "INFO:relative:\t_add_nonbonded_force_terms: nonbonded_method is NoCutoff\n",
      "INFO:relative:\t_add_nonbonded_force_terms: 0 added to standard nonbonded force\n",
      "INFO:relative:\t_add_nonbonded_force_terms: 0 added to sterics_custom_nonbonded force\n",
      "INFO:relative:\t_add_nonbonded_force_terms: <simtk.openmm.openmm.CustomNonbondedForce; proxy of <Swig Object of type 'OpenMM::CustomNonbondedForce *' at 0x7fa7357a6270> > added to hybrid system\n",
      "INFO:relative:Handling harmonic bonds...\n",
      "INFO:relative:\thandle_harmonic_bonds: looping through old_system to add relevant terms...\n",
      "INFO:relative:\thandle_harmonic_bonds: looping through new_system to add relevant terms...\n",
      "INFO:relative:Handling harmonic angles...\n",
      "INFO:relative:\thandle_harmonic_angles: looping through old_system to add relevant terms...\n",
      "INFO:relative:\thandle_harmonic_angles: looping through new_system to add relevant terms...\n",
      "INFO:relative:Handling torsion forces...\n",
      "INFO:relative:\thandle_periodic_torsion_forces: looping through old_system to add relevant terms...\n",
      "INFO:relative:\thandle_periodic_torsion_forces: looping through new_system to add relevant terms...\n",
      "INFO:relative:Handling nonbonded forces...\n",
      "INFO:relative:\thandle_nonbonded: looping through all particles in hybrid...\n",
      "INFO:relative:\thandle_nonbonded: Handling Interaction Groups...\n",
      "INFO:relative:\thandle_nonbonded: Handling Hybrid Exceptions...\n",
      "INFO:relative:\thandle_nonbonded: Handling Original Exceptions...\n",
      "INFO:relative:Handling unique_new/old interaction exceptions...\n",
      "INFO:relative:There are old or new system exceptions...proceeding.\n"
     ]
    },
    {
     "name": "stdout",
     "output_type": "stream",
     "text": [
      "conducting subsequent work with the following platform: Reference\n",
      "conducting subsequent work with the following platform: CPU\n",
      "\t\t\tHarmonicBondForce: 0.03455153971697946\n",
      "\t\t\tHarmonicAngleForce: 0.6072017723642879\n",
      "\t\t\tPeriodicTorsionForce: 16.176809979256742\n",
      "\t\t\tNonbondedForce: -39.186881867801866\n",
      "\t\t\tAndersenThermostat: 0.0\n",
      "conducting subsequent work with the following platform: CPU\n",
      "\t\t\tCustomBondForce: 0.03455153971697946\n",
      "\t\t\tHarmonicBondForce: 0.27069898623576366\n",
      "\t\t\tCustomAngleForce: 0.6070236800389454\n",
      "\t\t\tHarmonicAngleForce: 7.246841101475761\n",
      "\t\t\tCustomTorsionForce: 0.0\n",
      "\t\t\tPeriodicTorsionForce: 27.852989230051143\n",
      "\t\t\tNonbondedForce: -120.66170489801854\n",
      "\t\t\tCustomNonbondedForce: 4.716818401145219\n",
      "\t\t\tCustomBondForce: 0.0\n",
      "\t\t\tAndersenThermostat: 0.0\n",
      "conducting subsequent work with the following platform: CPU\n",
      "\t\t\tCustomBondForce: 0.03455153971697946\n",
      "\t\t\tHarmonicBondForce: 0.27069898623576366\n",
      "\t\t\tCustomAngleForce: 0.6070236800389454\n",
      "\t\t\tHarmonicAngleForce: 7.246841101475761\n",
      "\t\t\tCustomTorsionForce: 0.0\n",
      "\t\t\tPeriodicTorsionForce: 27.852989230051143\n",
      "\t\t\tNonbondedForce: -66.55883023642481\n",
      "\t\t\tCustomNonbondedForce: 82.71834170197998\n",
      "\t\t\tCustomBondForce: 0.0\n",
      "\t\t\tAndersenThermostat: 0.0\n",
      "conducting subsequent work with the following platform: CPU\n",
      "\t\t\tHarmonicBondForce: 0.3052505259527431\n",
      "\t\t\tHarmonicAngleForce: 7.853686689189363\n",
      "\t\t\tPeriodicTorsionForce: 27.848652479525555\n",
      "\t\t\tNonbondedForce: 7.347553450577381\n",
      "\t\t\tAndersenThermostat: 0.0\n",
      "zero state error : 7.105427357601002e-15\n",
      "one state error : 2.842170943040401e-14\n"
     ]
    }
   ],
   "source": [
    "vac_htf = generate_dipeptide_top_pos_sys(atp.topology, \n",
    "                                         new_res = 'THR', \n",
    "                                         system = atp.system, \n",
    "                                         positions = atp.positions,\n",
    "                                         system_generator = sys_gen, conduct_htf_prop=True)"
   ]
  },
  {
   "cell_type": "code",
   "execution_count": 33,
   "metadata": {
    "scrolled": true
   },
   "outputs": [
    {
     "name": "stderr",
     "output_type": "stream",
     "text": [
      "INFO:proposal_generator:\tConducting polymer point mutation proposal...\n",
      "INFO:proposal_generator:Using matching_criterion to chose best atom map\n",
      "INFO:proposal_generator:Scaffold has symmetry of 0\n",
      "WARNING:proposal_generator:Two molecules are not similar to have a common scaffold\n",
      "WARNING:proposal_generator:Proceeding with direct mapping of molecules, but please check atom mapping and the geometry of the ligands.\n",
      "INFO:proposal_generator:len [{4: 4, 9: 9}]\n",
      "INFO:proposal_generator:{4: 4, 9: 9}\n",
      "INFO:proposal_generator:Only one map so returning that one\n",
      "INFO:proposal_generator:{4: 4, 9: 9}\n",
      "INFO:geometry:propose: performing forward proposal\n",
      "INFO:geometry:propose: unique new atoms detected; proceeding to _logp_propose...\n",
      "INFO:geometry:Conducting forward proposal...\n",
      "INFO:geometry:Computing proposal order with NetworkX...\n",
      "INFO:geometry:number of atoms to be placed: 7\n",
      "INFO:geometry:Atom index proposal order is [14, 18, 15, 19, 16, 13, 17]\n",
      "INFO:geometry:omitted_bonds: []\n",
      "INFO:geometry:direction of proposal is forward; creating atoms_with_positions and new positions from old system/topology...\n",
      "INFO:geometry:creating growth system...\n",
      "INFO:geometry:\tcreating bond force...\n",
      "INFO:geometry:\tthere are 11 bonds in reference force.\n",
      "INFO:geometry:\tcreating angle force...\n",
      "INFO:geometry:\tthere are 43 angles in reference force.\n",
      "INFO:geometry:\tcreating torsion force...\n",
      "INFO:geometry:\tcreating extra torsions force...\n",
      "INFO:geometry:\tthere are 72 torsions in reference force.\n",
      "INFO:geometry:\tcreating nonbonded force...\n",
      "INFO:geometry:\t\tgrabbing reference nonbonded method, cutoff, switching function, switching distance...\n",
      "INFO:geometry:\t\tcreating nonbonded exception force (i.e. custom bond for 1,4s)...\n",
      "INFO:geometry:\t\tlooping through exceptions calculating growth indices, and adding appropriate interactions to custom bond force.\n",
      "INFO:geometry:\t\tthere are 121 in the reference Nonbonded force\n",
      "INFO:geometry:Neglected angle terms : []\n",
      "INFO:geometry:omitted_growth_terms: {'bonds': [], 'angles': [], 'torsions': [], '1,4s': []}\n",
      "INFO:geometry:extra torsions: {0: (14, 10, 8, 18, [1, Quantity(value=1.0655064807976995, unit=radian), Quantity(value=120.0, unit=kilocalorie/mole), 2])}\n",
      "INFO:geometry:neglected angle terms include []\n",
      "INFO:geometry:log probability choice of torsions and atom order: -12.966130531372746\n",
      "INFO:geometry:creating platform, integrators, and contexts; setting growth parameter\n",
      "INFO:geometry:setting atoms_with_positions context new positions\n",
      "INFO:geometry:There are 7 new atoms\n",
      "INFO:geometry:\treduced angle potential = 0.21570637705118081.\n",
      "INFO:geometry:\treduced angle potential = 0.5968550661271774.\n",
      "INFO:geometry:\treduced angle potential = 0.07241653581226011.\n",
      "INFO:geometry:\treduced angle potential = 0.048232205944197276.\n",
      "INFO:geometry:\treduced angle potential = 0.16160417570897964.\n",
      "INFO:geometry:\treduced angle potential = 0.3534737211531923.\n"
     ]
    },
    {
     "name": "stdout",
     "output_type": "stream",
     "text": [
      "making topology proposal\n",
      "generating geometry engine\n",
      "making geometry proposal from ALA to THR\n",
      "Warning: Returning Reference platform instead of requested platform CUDA\n",
      "conducting subsequent work with the following platform: Reference\n",
      "conducting subsequent work with the following platform: CPU\n"
     ]
    },
    {
     "name": "stderr",
     "output_type": "stream",
     "text": [
      "INFO:geometry:\treduced angle potential = 0.6604561506711797.\n",
      "INFO:geometry:\tbeginning construction of no_nonbonded final system...\n",
      "INFO:geometry:\tinitial no-nonbonded final system forces ['HarmonicBondForce', 'HarmonicAngleForce', 'PeriodicTorsionForce', 'NonbondedForce']\n",
      "INFO:geometry:\tfinal no-nonbonded final system forces dict_keys(['HarmonicBondForce', 'HarmonicAngleForce', 'PeriodicTorsionForce', 'NonbondedForce'])\n",
      "INFO:geometry:\tthere are 11 bond forces in the no-nonbonded final system\n",
      "INFO:geometry:\tthere are 43 angle forces in the no-nonbonded final system\n",
      "INFO:geometry:\tthere are 72 torsion forces in the no-nonbonded final system\n",
      "INFO:geometry:forward final system defined with 0 neglected angles.\n",
      "INFO:geometry:total reduced potential before atom placement: 16.81404844848707\n",
      "INFO:geometry:total reduced energy added from growth system: -55.432488066449245\n",
      "INFO:geometry:final reduced energy -38.618439617962174\n",
      "INFO:geometry:sum of energies: -38.618439617962174\n",
      "INFO:geometry:magnitude of difference in the energies: 0.0\n",
      "INFO:geometry:Final logp_proposal: 36.12415381160584\n",
      "INFO:geometry:logp_reverse: performing reverse proposal\n",
      "INFO:geometry:logp_reverse: unique new atoms detected; proceeding to _logp_propose...\n",
      "INFO:geometry:Conducting forward proposal...\n",
      "INFO:geometry:Computing proposal order with NetworkX...\n",
      "INFO:geometry:number of atoms to be placed: 3\n",
      "INFO:geometry:Atom index proposal order is [13, 11, 12]\n",
      "INFO:geometry:omitted_bonds: []\n",
      "INFO:geometry:direction of proposal is reverse; creating atoms_with_positions from old system/topology\n",
      "INFO:geometry:creating growth system...\n",
      "INFO:geometry:\tcreating bond force...\n",
      "INFO:geometry:\tthere are 9 bonds in reference force.\n",
      "INFO:geometry:\tcreating angle force...\n",
      "INFO:geometry:\tthere are 36 angles in reference force.\n",
      "INFO:geometry:\tcreating torsion force...\n",
      "INFO:geometry:\tcreating extra torsions force...\n",
      "INFO:geometry:\tthere are 42 torsions in reference force.\n",
      "INFO:geometry:\tcreating nonbonded force...\n",
      "INFO:geometry:\t\tgrabbing reference nonbonded method, cutoff, switching function, switching distance...\n",
      "INFO:geometry:\t\tcreating nonbonded exception force (i.e. custom bond for 1,4s)...\n",
      "INFO:geometry:\t\tlooping through exceptions calculating growth indices, and adding appropriate interactions to custom bond force.\n",
      "INFO:geometry:\t\tthere are 98 in the reference Nonbonded force\n",
      "INFO:geometry:Neglected angle terms : []\n",
      "INFO:geometry:omitted_growth_terms: {'bonds': [], 'angles': [], 'torsions': [], '1,4s': []}\n",
      "INFO:geometry:extra torsions: {}\n",
      "INFO:geometry:neglected angle terms include []\n",
      "INFO:geometry:log probability choice of torsions and atom order: -5.0875963352323845\n",
      "INFO:geometry:creating platform, integrators, and contexts; setting growth parameter\n",
      "INFO:geometry:setting atoms_with_positions context old positions\n",
      "INFO:geometry:There are 3 new atoms\n",
      "INFO:geometry:\treduced angle potential = 7.390951941228323e-11.\n",
      "INFO:geometry:\treduced angle potential = 1.2915573155343707e-10.\n",
      "INFO:geometry:\treduced angle potential = 3.205828647416432e-13.\n",
      "INFO:geometry:\tbeginning construction of no_nonbonded final system...\n",
      "INFO:geometry:\tinitial no-nonbonded final system forces ['HarmonicBondForce', 'HarmonicAngleForce', 'PeriodicTorsionForce', 'NonbondedForce']\n",
      "INFO:geometry:\tfinal no-nonbonded final system forces dict_keys(['HarmonicBondForce', 'HarmonicAngleForce', 'PeriodicTorsionForce', 'NonbondedForce'])\n",
      "INFO:geometry:\tthere are 9 bond forces in the no-nonbonded final system\n",
      "INFO:geometry:\tthere are 36 angle forces in the no-nonbonded final system\n",
      "INFO:geometry:\tthere are 42 torsion forces in the no-nonbonded final system\n",
      "INFO:geometry:reverse final system defined with 0 neglected angles.\n",
      "INFO:geometry:total reduced potential before atom placement: 16.81404844848707\n",
      "INFO:geometry:total reduced energy added from growth system: 8.81651504972902\n",
      "INFO:geometry:final reduced energy 25.630563498216084\n"
     ]
    },
    {
     "name": "stdout",
     "output_type": "stream",
     "text": [
      "conducting subsequent work with the following platform: CPU\n",
      "conducting subsequent work with the following platform: CPU\n",
      "conducting subsequent work with the following platform: CPU\n",
      "Warning: Returning Reference platform instead of requested platform CUDA\n",
      "conducting subsequent work with the following platform: Reference\n",
      "conducting subsequent work with the following platform: CPU\n",
      "added energy components: [('CustomBondForce', 0.569343550176884), ('CustomAngleForce', 4.62580826235766), ('CustomTorsionForce', 13.109759520427811), ('CustomBondForce', -73.7373993994116)]\n",
      "Warning: Returning Reference platform instead of requested platform CUDA\n",
      "conducting subsequent work with the following platform: Reference\n",
      "conducting subsequent work with the following platform: CPU\n",
      "conducting subsequent work with the following platform: CPU\n",
      "conducting subsequent work with the following platform: CPU\n",
      "conducting subsequent work with the following platform: CPU\n",
      "Warning: Returning Reference platform instead of requested platform CUDA\n",
      "conducting subsequent work with the following platform: Reference\n",
      "conducting subsequent work with the following platform: CPU\n",
      "added energy components: [('CustomBondForce', 0.0), ('CustomAngleForce', 0.00017809232534266413), ('CustomTorsionForce', 0.004336750525590176), ('CustomBondForce', 8.812000206878086)]\n"
     ]
    },
    {
     "name": "stderr",
     "output_type": "stream",
     "text": [
      "INFO:geometry:sum of energies: 25.63056349821609\n",
      "INFO:geometry:magnitude of difference in the energies: 7.105427357601002e-15\n",
      "INFO:geometry:Final logp_proposal: 15.639535986580494\n",
      "INFO:relative:Old system forces: dict_keys(['HarmonicBondForce', 'HarmonicAngleForce', 'PeriodicTorsionForce', 'NonbondedForce'])\n",
      "INFO:relative:New system forces: dict_keys(['HarmonicBondForce', 'HarmonicAngleForce', 'PeriodicTorsionForce', 'NonbondedForce'])\n",
      "INFO:relative:No unknown forces.\n",
      "INFO:relative:Nonbonded method to be used (i.e. from old system): 0\n",
      "INFO:relative:Adding and mapping old atoms to hybrid system...\n",
      "INFO:relative:Adding and mapping new atoms to hybrid system...\n",
      "INFO:relative:No MonteCarloBarostat added.\n",
      "INFO:relative:getDefaultPeriodicBoxVectors added to hybrid: [Quantity(value=Vec3(x=2.0, y=0.0, z=0.0), unit=nanometer), Quantity(value=Vec3(x=0.0, y=2.0, z=0.0), unit=nanometer), Quantity(value=Vec3(x=0.0, y=0.0, z=2.0), unit=nanometer)]\n",
      "INFO:relative:Determined atom classes.\n",
      "INFO:relative:Generating old system exceptions dict...\n",
      "INFO:relative:Generating new system exceptions dict...\n",
      "INFO:relative:Handling constraints...\n",
      "INFO:relative:Handling virtual sites...\n",
      "INFO:relative:\t_handle_virtual_sites: numVirtualSites: 0\n",
      "INFO:relative:\t_add_nonbonded_force_terms: <simtk.openmm.openmm.NonbondedForce; proxy of <Swig Object of type 'OpenMM::NonbondedForce *' at 0x7fa7357a6f30> > added to hybrid system\n",
      "INFO:relative:\t_add_nonbonded_force_terms: nonbonded_method is NoCutoff\n",
      "INFO:relative:\t_add_nonbonded_force_terms: 0 added to standard nonbonded force\n",
      "INFO:relative:\t_add_nonbonded_force_terms: 0 added to sterics_custom_nonbonded force\n"
     ]
    }
   ],
   "source": [
    "vac_rep_htf = generate_dipeptide_top_pos_sys(atp.topology, \n",
    "                                         new_res = 'THR', \n",
    "                                         system = atp.system, \n",
    "                                         positions = atp.positions,\n",
    "                                         system_generator = sys_gen, \n",
    "                                         conduct_htf_prop=True,\n",
    "                                         repartitioned=True, endstate=0, validate_endstate_energy=False)"
   ]
  },
  {
   "cell_type": "code",
   "execution_count": 6,
   "metadata": {},
   "outputs": [],
   "source": [
    "hybrid_sys = vac_rep_htf._hybrid_system"
   ]
  },
  {
   "cell_type": "code",
   "execution_count": 7,
   "metadata": {},
   "outputs": [
    {
     "data": {
      "text/plain": [
       "[<simtk.openmm.openmm.HarmonicBondForce; proxy of <Swig Object of type 'OpenMM::HarmonicBondForce *' at 0x7fa76a38adb0> >,\n",
       " <simtk.openmm.openmm.HarmonicAngleForce; proxy of <Swig Object of type 'OpenMM::HarmonicAngleForce *' at 0x7fa76a38aea0> >,\n",
       " <simtk.openmm.openmm.PeriodicTorsionForce; proxy of <Swig Object of type 'OpenMM::PeriodicTorsionForce *' at 0x7fa76a38a0f0> >,\n",
       " <simtk.openmm.openmm.NonbondedForce; proxy of <Swig Object of type 'OpenMM::NonbondedForce *' at 0x7fa76a38a780> >]"
      ]
     },
     "execution_count": 7,
     "metadata": {},
     "output_type": "execute_result"
    }
   ],
   "source": [
    "hybrid_sys.getForces()"
   ]
  },
  {
   "cell_type": "markdown",
   "metadata": {},
   "source": [
    "it _should_ be true that the energy of the repartitioned hybrid topology factory at lambda = 0 (1) should match the energy of the lambda = 0 (1) non-repartitioned htf (given the same topology proposal)"
   ]
  },
  {
   "cell_type": "code",
   "execution_count": null,
   "metadata": {},
   "outputs": [],
   "source": []
  }
 ],
 "metadata": {
  "kernelspec": {
   "display_name": "Python 3",
   "language": "python",
   "name": "python3"
  },
  "language_info": {
   "codemirror_mode": {
    "name": "ipython",
    "version": 3
   },
   "file_extension": ".py",
   "mimetype": "text/x-python",
   "name": "python",
   "nbconvert_exporter": "python",
   "pygments_lexer": "ipython3",
   "version": "3.6.7"
  }
 },
 "nbformat": 4,
 "nbformat_minor": 4
}
